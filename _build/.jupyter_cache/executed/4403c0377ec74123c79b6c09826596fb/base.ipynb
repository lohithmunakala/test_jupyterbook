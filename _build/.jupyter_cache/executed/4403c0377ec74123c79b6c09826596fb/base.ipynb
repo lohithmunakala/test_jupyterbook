{
 "cells": [
  {
   "cell_type": "code",
   "execution_count": 1,
   "metadata": {},
   "outputs": [
    {
     "data": {
      "text/html": [
       "<div>\n",
       "<style scoped>\n",
       "    .dataframe tbody tr th:only-of-type {\n",
       "        vertical-align: middle;\n",
       "    }\n",
       "\n",
       "    .dataframe tbody tr th {\n",
       "        vertical-align: top;\n",
       "    }\n",
       "\n",
       "    .dataframe thead th {\n",
       "        text-align: right;\n",
       "    }\n",
       "</style>\n",
       "<table border=\"1\" class=\"dataframe\">\n",
       "  <thead>\n",
       "    <tr style=\"text-align: right;\">\n",
       "      <th></th>\n",
       "      <th>time</th>\n",
       "      <th>longitude</th>\n",
       "      <th>latitude</th>\n",
       "      <th>depth</th>\n",
       "      <th>u</th>\n",
       "      <th>v</th>\n",
       "      <th>station</th>\n",
       "    </tr>\n",
       "  </thead>\n",
       "  <tbody>\n",
       "    <tr>\n",
       "      <th>95</th>\n",
       "      <td>2021-09-06 13:36:57.985934</td>\n",
       "      <td>-48.6256</td>\n",
       "      <td>-27.5717</td>\n",
       "      <td>10</td>\n",
       "      <td>0.440129</td>\n",
       "      <td>-0.897934</td>\n",
       "      <td>fake buoy</td>\n",
       "    </tr>\n",
       "    <tr>\n",
       "      <th>96</th>\n",
       "      <td>2021-09-07 13:36:57.985934</td>\n",
       "      <td>-48.6256</td>\n",
       "      <td>-27.5717</td>\n",
       "      <td>10</td>\n",
       "      <td>0.348287</td>\n",
       "      <td>-0.937388</td>\n",
       "      <td>fake buoy</td>\n",
       "    </tr>\n",
       "    <tr>\n",
       "      <th>97</th>\n",
       "      <td>2021-09-08 13:36:57.985934</td>\n",
       "      <td>-48.6256</td>\n",
       "      <td>-27.5717</td>\n",
       "      <td>10</td>\n",
       "      <td>0.252964</td>\n",
       "      <td>-0.967476</td>\n",
       "      <td>fake buoy</td>\n",
       "    </tr>\n",
       "    <tr>\n",
       "      <th>98</th>\n",
       "      <td>2021-09-09 13:36:57.985934</td>\n",
       "      <td>-48.6256</td>\n",
       "      <td>-27.5717</td>\n",
       "      <td>10</td>\n",
       "      <td>0.155114</td>\n",
       "      <td>-0.987897</td>\n",
       "      <td>fake buoy</td>\n",
       "    </tr>\n",
       "    <tr>\n",
       "      <th>99</th>\n",
       "      <td>2021-09-10 13:36:57.985934</td>\n",
       "      <td>-48.6256</td>\n",
       "      <td>-27.5717</td>\n",
       "      <td>10</td>\n",
       "      <td>0.055714</td>\n",
       "      <td>-0.998447</td>\n",
       "      <td>fake buoy</td>\n",
       "    </tr>\n",
       "  </tbody>\n",
       "</table>\n",
       "</div>"
      ],
      "text/plain": [
       "                         time  longitude  latitude  depth         u         v  \\\n",
       "95 2021-09-06 13:36:57.985934   -48.6256  -27.5717     10  0.440129 -0.897934   \n",
       "96 2021-09-07 13:36:57.985934   -48.6256  -27.5717     10  0.348287 -0.937388   \n",
       "97 2021-09-08 13:36:57.985934   -48.6256  -27.5717     10  0.252964 -0.967476   \n",
       "98 2021-09-09 13:36:57.985934   -48.6256  -27.5717     10  0.155114 -0.987897   \n",
       "99 2021-09-10 13:36:57.985934   -48.6256  -27.5717     10  0.055714 -0.998447   \n",
       "\n",
       "      station  \n",
       "95  fake buoy  \n",
       "96  fake buoy  \n",
       "97  fake buoy  \n",
       "98  fake buoy  \n",
       "99  fake buoy  "
      ]
     },
     "execution_count": 1,
     "metadata": {},
     "output_type": "execute_result"
    }
   ],
   "source": [
    "from datetime import datetime, timedelta\n",
    "\n",
    "import numpy as np\n",
    "import pandas as pd\n",
    "\n",
    "x = np.arange(100, 110, 0.1)\n",
    "start = datetime.now() - timedelta(days=7)\n",
    "\n",
    "df = pd.DataFrame(\n",
    "    {\n",
    "        \"time\": [start + timedelta(days=n) for n in range(len(x))],\n",
    "        \"longitude\": -48.6256,\n",
    "        \"latitude\": -27.5717,\n",
    "        \"depth\": 10,\n",
    "        \"u\": np.sin(x),\n",
    "        \"v\": np.cos(x),\n",
    "        \"station\": \"fake buoy\",\n",
    "    }\n",
    ")\n",
    "\n",
    "\n",
    "df.tail()"
   ]
  },
  {
   "cell_type": "code",
   "execution_count": 2,
   "metadata": {
    "scrolled": false
   },
   "outputs": [
    {
     "data": {
      "text/plain": [
       "(array([18779., 18793., 18809., 18823., 18840., 18854., 18871., 18885.]),\n",
       " [Text(0, 0, ''),\n",
       "  Text(0, 0, ''),\n",
       "  Text(0, 0, ''),\n",
       "  Text(0, 0, ''),\n",
       "  Text(0, 0, ''),\n",
       "  Text(0, 0, ''),\n",
       "  Text(0, 0, ''),\n",
       "  Text(0, 0, '')])"
      ]
     },
     "execution_count": 2,
     "metadata": {},
     "output_type": "execute_result"
    },
    {
     "data": {
      "image/png": "[encoded data removed]",
      "text/plain": [
       "<Figure size 432x288 with 1 Axes>"
      ]
     },
     "metadata": {
      "needs_background": "light"
     },
     "output_type": "display_data"
    }
   ],
   "source": [
    "%matplotlib inline\n",
    "\n",
    "\n",
    "import matplotlib.pyplot as plt\n",
    "from oceans.plotting import stick_plot\n",
    "\n",
    "q = stick_plot([t.to_pydatetime() for t in df[\"time\"]], df[\"u\"], df[\"v\"])\n",
    "\n",
    "ref = 1\n",
    "qk = plt.quiverkey(\n",
    "    q, 0.1, 0.85, ref, f\"{ref} m s$^{-1}$\", labelpos=\"N\", coordinates=\"axes\"\n",
    ")\n",
    "\n",
    "plt.xticks(rotation=70)"
   ]
  },
  {
   "cell_type": "code",
   "execution_count": 3,
   "metadata": {},
   "outputs": [],
   "source": [
    "attributes = {\n",
    "    \"global\": {\n",
    "        \"title\": \"Fake mooring\",\n",
    "        \"summary\": \"Vector current meter ADCP @ 10 m\",\n",
    "        \"institution\": \"Restaurant at the end of the universe\",\n",
    "        \"cdm_timeseries_variables\": \"station\",\n",
    "        \"subsetVariables\": \"depth\",\n",
    "    },\n",
    "    \"longitude\": {\"units\": \"degrees_east\", \"standard_name\": \"longitude\",},\n",
    "    \"latitude\": {\"units\": \"degrees_north\", \"standard_name\": \"latitude\",},\n",
    "    \"z\": {\"units\": \"m\", \"standard_name\": \"depth\", \"positive\": \"down\",},\n",
    "    \"u\": {\"units\": \"m/s\", \"standard_name\": \"eastward_sea_water_velocity\",},\n",
    "    \"v\": {\"units\": \"m/s\", \"standard_name\": \"northward_sea_water_velocity\",},\n",
    "    \"station\": {\"cf_role\": \"timeseries_id\"},\n",
    "}"
   ]
  },
  {
   "cell_type": "code",
   "execution_count": 4,
   "metadata": {},
   "outputs": [],
   "source": [
    "axes = {\"t\": \"time\", \"x\": \"longitude\", \"y\": \"latitude\", \"z\": \"depth\"}"
   ]
  },
  {
   "cell_type": "code",
   "execution_count": 5,
   "metadata": {
    "scrolled": true
   },
   "outputs": [],
   "source": [
    "from pocean.dsg.timeseries.om import OrthogonalMultidimensionalTimeseries\n",
    "from pocean.utils import downcast_dataframe\n",
    "\n",
    "df = downcast_dataframe(df)  # safely cast depth np.int64 to np.int32\n",
    "dsg = OrthogonalMultidimensionalTimeseries.from_dataframe(\n",
    "    df, output=\"fake_buoy.nc\", attributes=attributes, axes=axes,\n",
    ")"
   ]
  },
  {
   "cell_type": "code",
   "execution_count": 6,
   "metadata": {},
   "outputs": [
    {
     "name": "stdout",
     "output_type": "stream",
     "text": [
      "netcdf fake_buoy {\r\n",
      "dimensions:\r\n",
      "\tstation = 1 ;\r\n",
      "\ttime = 100 ;\r\n",
      "variables:\r\n",
      "\tint crs ;\r\n",
      "\tdouble time(time) ;\r\n",
      "\t\ttime:units = \"seconds since 1990-01-01 00:00:00Z\" ;\r\n",
      "\t\ttime:standard_name = \"time\" ;\r\n",
      "\t\ttime:axis = \"T\" ;\r\n",
      "\tstring station(station) ;\r\n",
      "\t\tstation:cf_role = \"timeseries_id\" ;\r\n",
      "\t\tstation:long_name = \"station identifier\" ;\r\n",
      "\tdouble latitude(station) ;\r\n",
      "\t\tlatitude:axis = \"Y\" ;\r\n",
      "\t\tlatitude:units = \"degrees_north\" ;\r\n",
      "\t\tlatitude:standard_name = \"latitude\" ;\r\n",
      "\tdouble longitude(station) ;\r\n",
      "\t\tlongitude:axis = \"X\" ;\r\n",
      "\t\tlongitude:units = \"degrees_east\" ;\r\n",
      "\t\tlongitude:standard_name = \"longitude\" ;\r\n",
      "\tint depth(station) ;\r\n",
      "\t\tdepth:_FillValue = -9999 ;\r\n",
      "\t\tdepth:axis = \"Z\" ;\r\n",
      "\tdouble u(station, time) ;\r\n",
      "\t\tu:_FillValue = -9999.9 ;\r\n",
      "\t\tu:units = \"m/s\" ;\r\n",
      "\t\tu:standard_name = \"eastward_sea_water_velocity\" ;\r\n",
      "\t\tu:coordinates = \"time depth longitude latitude\" ;\r\n",
      "\tdouble v(station, time) ;\r\n",
      "\t\tv:_FillValue = -9999.9 ;\r\n",
      "\t\tv:units = \"m/s\" ;\r\n",
      "\t\tv:standard_name = \"northward_sea_water_velocity\" ;\r\n",
      "\t\tv:coordinates = \"time depth longitude latitude\" ;\r\n",
      "\r\n",
      "// global attributes:\r\n",
      "\t\t:Conventions = \"CF-1.6\" ;\r\n",
      "\t\t:date_created = \"2021-06-10T08:06:00Z\" ;\r\n",
      "\t\t:featureType = \"timeseries\" ;\r\n",
      "\t\t:cdm_data_type = \"Timeseries\" ;\r\n",
      "\t\t:title = \"Fake mooring\" ;\r\n",
      "\t\t:summary = \"Vector current meter ADCP @ 10 m\" ;\r\n",
      "\t\t:institution = \"Restaurant at the end of the universe\" ;\r\n",
      "\t\t:cdm_timeseries_variables = \"station\" ;\r\n",
      "\t\t:subsetVariables = \"depth\" ;\r\n",
      "}\r\n"
     ]
    }
   ],
   "source": [
    "!ncdump -h fake_buoy.nc"
   ]
  },
  {
   "cell_type": "code",
   "execution_count": 7,
   "metadata": {},
   "outputs": [
    {
     "data": {
      "text/plain": [
       "'timeseries'"
      ]
     },
     "execution_count": 7,
     "metadata": {},
     "output_type": "execute_result"
    }
   ],
   "source": [
    "dsg.getncattr(\"featureType\")"
   ]
  },
  {
   "cell_type": "code",
   "execution_count": 8,
   "metadata": {},
   "outputs": [
    {
     "data": {
      "text/plain": [
       "pocean.dsg.timeseries.om.OrthogonalMultidimensionalTimeseries"
      ]
     },
     "execution_count": 8,
     "metadata": {},
     "output_type": "execute_result"
    }
   ],
   "source": [
    "type(dsg)"
   ]
  },
  {
   "cell_type": "code",
   "execution_count": 9,
   "metadata": {},
   "outputs": [
    {
     "data": {
      "text/plain": [
       "['eastward_sea_water_velocity', 'northward_sea_water_velocity']"
      ]
     },
     "execution_count": 9,
     "metadata": {},
     "output_type": "execute_result"
    }
   ],
   "source": [
    "[(v.standard_name) for v in dsg.data_vars()]"
   ]
  },
  {
   "cell_type": "code",
   "execution_count": 10,
   "metadata": {},
   "outputs": [
    {
     "data": {
      "text/plain": [
       "[<class 'netCDF4._netCDF4.Variable'>\n",
       " float64 time(time)\n",
       "     units: seconds since 1990-01-01 00:00:00Z\n",
       "     standard_name: time\n",
       "     axis: T\n",
       " unlimited dimensions: \n",
       " current shape = (100,)\n",
       " filling on, default _FillValue of 9.969209968386869e+36 used]"
      ]
     },
     "execution_count": 10,
     "metadata": {},
     "output_type": "execute_result"
    }
   ],
   "source": [
    "dsg.axes(\"T\")"
   ]
  },
  {
   "cell_type": "code",
   "execution_count": 11,
   "metadata": {},
   "outputs": [
    {
     "data": {
      "text/plain": [
       "[<class 'netCDF4._netCDF4.Variable'>\n",
       " int32 depth(station)\n",
       "     _FillValue: -9999\n",
       "     axis: Z\n",
       " unlimited dimensions: \n",
       " current shape = (1,)\n",
       " filling on]"
      ]
     },
     "execution_count": 11,
     "metadata": {},
     "output_type": "execute_result"
    }
   ],
   "source": [
    "dsg.axes(\"Z\")"
   ]
  },
  {
   "cell_type": "code",
   "execution_count": 12,
   "metadata": {},
   "outputs": [
    {
     "data": {
      "text/plain": [
       "{'cf_role': 'timeseries_id', 'long_name': 'station identifier'}"
      ]
     },
     "execution_count": 12,
     "metadata": {},
     "output_type": "execute_result"
    }
   ],
   "source": [
    "dsg.vatts(\"station\")"
   ]
  },
  {
   "cell_type": "code",
   "execution_count": 13,
   "metadata": {},
   "outputs": [
    {
     "data": {
      "text/plain": [
       "array(['fake buoy'], dtype=object)"
      ]
     },
     "execution_count": 13,
     "metadata": {},
     "output_type": "execute_result"
    }
   ],
   "source": [
    "dsg[\"station\"][:]"
   ]
  },
  {
   "cell_type": "code",
   "execution_count": 14,
   "metadata": {},
   "outputs": [
    {
     "data": {
      "text/plain": [
       "{'_FillValue': -9999.9,\n",
       " 'units': 'm/s',\n",
       " 'standard_name': 'eastward_sea_water_velocity',\n",
       " 'coordinates': 'time depth longitude latitude'}"
      ]
     },
     "execution_count": 14,
     "metadata": {},
     "output_type": "execute_result"
    }
   ],
   "source": [
    "dsg.vatts(\"u\")"
   ]
  },
  {
   "cell_type": "code",
   "execution_count": 15,
   "metadata": {},
   "outputs": [
    {
     "data": {
      "text/html": [
       "<div>\n",
       "<style scoped>\n",
       "    .dataframe tbody tr th:only-of-type {\n",
       "        vertical-align: middle;\n",
       "    }\n",
       "\n",
       "    .dataframe tbody tr th {\n",
       "        vertical-align: top;\n",
       "    }\n",
       "\n",
       "    .dataframe thead th {\n",
       "        text-align: right;\n",
       "    }\n",
       "</style>\n",
       "<table border=\"1\" class=\"dataframe\">\n",
       "  <thead>\n",
       "    <tr style=\"text-align: right;\">\n",
       "      <th></th>\n",
       "      <th>t</th>\n",
       "      <th>x</th>\n",
       "      <th>y</th>\n",
       "      <th>z</th>\n",
       "      <th>station</th>\n",
       "      <th>u</th>\n",
       "      <th>v</th>\n",
       "    </tr>\n",
       "  </thead>\n",
       "  <tbody>\n",
       "    <tr>\n",
       "      <th>0</th>\n",
       "      <td>2021-06-03 13:36:57.985934</td>\n",
       "      <td>-48.6256</td>\n",
       "      <td>-27.5717</td>\n",
       "      <td>10</td>\n",
       "      <td>fake buoy</td>\n",
       "      <td>-0.506366</td>\n",
       "      <td>0.862319</td>\n",
       "    </tr>\n",
       "    <tr>\n",
       "      <th>1</th>\n",
       "      <td>2021-06-04 13:36:57.985934</td>\n",
       "      <td>-48.6256</td>\n",
       "      <td>-27.5717</td>\n",
       "      <td>10</td>\n",
       "      <td>fake buoy</td>\n",
       "      <td>-0.417748</td>\n",
       "      <td>0.908563</td>\n",
       "    </tr>\n",
       "    <tr>\n",
       "      <th>2</th>\n",
       "      <td>2021-06-05 13:36:57.985934</td>\n",
       "      <td>-48.6256</td>\n",
       "      <td>-27.5717</td>\n",
       "      <td>10</td>\n",
       "      <td>fake buoy</td>\n",
       "      <td>-0.324956</td>\n",
       "      <td>0.945729</td>\n",
       "    </tr>\n",
       "    <tr>\n",
       "      <th>3</th>\n",
       "      <td>2021-06-06 13:36:57.985934</td>\n",
       "      <td>-48.6256</td>\n",
       "      <td>-27.5717</td>\n",
       "      <td>10</td>\n",
       "      <td>fake buoy</td>\n",
       "      <td>-0.228917</td>\n",
       "      <td>0.973446</td>\n",
       "    </tr>\n",
       "    <tr>\n",
       "      <th>4</th>\n",
       "      <td>2021-06-07 13:36:57.985934</td>\n",
       "      <td>-48.6256</td>\n",
       "      <td>-27.5717</td>\n",
       "      <td>10</td>\n",
       "      <td>fake buoy</td>\n",
       "      <td>-0.130591</td>\n",
       "      <td>0.991436</td>\n",
       "    </tr>\n",
       "  </tbody>\n",
       "</table>\n",
       "</div>"
      ],
      "text/plain": [
       "                            t        x        y   z    station         u  \\\n",
       "0  2021-06-03 13:36:57.985934 -48.6256 -27.5717  10  fake buoy -0.506366   \n",
       "1  2021-06-04 13:36:57.985934 -48.6256 -27.5717  10  fake buoy -0.417748   \n",
       "2  2021-06-05 13:36:57.985934 -48.6256 -27.5717  10  fake buoy -0.324956   \n",
       "3  2021-06-06 13:36:57.985934 -48.6256 -27.5717  10  fake buoy -0.228917   \n",
       "4  2021-06-07 13:36:57.985934 -48.6256 -27.5717  10  fake buoy -0.130591   \n",
       "\n",
       "          v  \n",
       "0  0.862319  \n",
       "1  0.908563  \n",
       "2  0.945729  \n",
       "3  0.973446  \n",
       "4  0.991436  "
      ]
     },
     "execution_count": 15,
     "metadata": {},
     "output_type": "execute_result"
    }
   ],
   "source": [
    "dsg.to_dataframe().head()"
   ]
  }
 ],
 "metadata": {
  "_draft": {
   "nbviewer_url": "https://gist.github.com/b2f37b7724981e80e48bd59311ac9a58"
  },
  "gist": {
   "data": {
    "description": "erddap/adcp.ipynb",
    "public": true
   },
   "id": "b2f37b7724981e80e48bd59311ac9a58"
  },
  "kernelspec": {
   "display_name": "Python 3",
   "language": "python",
   "name": "python3"
  },
  "language_info": {
   "codemirror_mode": {
    "name": "ipython",
    "version": 3
   },
   "file_extension": ".py",
   "mimetype": "text/x-python",
   "name": "python",
   "nbconvert_exporter": "python",
   "pygments_lexer": "ipython3",
   "version": "3.9.4"
  }
 },
 "nbformat": 4,
 "nbformat_minor": 2
}